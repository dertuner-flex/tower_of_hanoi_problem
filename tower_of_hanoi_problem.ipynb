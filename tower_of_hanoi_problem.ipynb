{
 "cells": [
  {
   "cell_type": "code",
   "execution_count": 260,
   "metadata": {},
   "outputs": [],
   "source": [
    "import numpy as np\n",
    "import copy\n",
    "import matplotlib.pyplot as plt\n",
    "import networkx as nx"
   ]
  },
  {
   "cell_type": "markdown",
   "metadata": {},
   "source": [
    "Сначала опишем структуру, которая позволяет описать состояние игры в какой-то момент времени"
   ]
  },
  {
   "cell_type": "code",
   "execution_count": 171,
   "metadata": {},
   "outputs": [],
   "source": [
    "class state:\n",
    "    def __init__(self, n_disk, n_tower):\n",
    "        self.state = [[] for _ in range(n_tower)]\n",
    "        self.n_disk = n_disk\n",
    "        self.n_tower = n_tower\n",
    "        \n",
    "    def copy(self):\n",
    "        result = state(self.n_disk, self.n_tower)\n",
    "        result.state = copy.deepcopy(self.state)\n",
    "        return result\n",
    "        \n",
    "    def hashable_repr(self):\n",
    "        result = tuple(tuple(e) for e in self.state)\n",
    "        return result\n",
    "    \n",
    "    def init_state(n_disk, n_tower):\n",
    "        result = state(n_disk, n_tower)\n",
    "        result.state[0] = list(np.arange(n_disk) + 1)[::-1]\n",
    "        return result\n",
    "        \n",
    "    def final_state(n_disk, n_tower):\n",
    "        result = state(n_disk, n_tower)\n",
    "        result.state[-1] = list(np.arange(n_disk) + 1)[::-1]\n",
    "        return result"
   ]
  },
  {
   "cell_type": "markdown",
   "metadata": {},
   "source": [
    "Рекурсивная функция, которая позволяет обходить все состояния игры доступные от начального. (и параллельно строить граф) "
   ]
  },
  {
   "cell_type": "code",
   "execution_count": 172,
   "metadata": {},
   "outputs": [],
   "source": [
    "def build_graph(current_state, first_free_number, n_disk, n_tower, state_number, graph):\n",
    "    for tower_idx in range(n_tower):\n",
    "        if current_state.state[tower_idx]:\n",
    "            last_disk = current_state.state[tower_idx][-1]\n",
    "            for rhs_idx in range(n_tower):\n",
    "                if rhs_idx == tower_idx:\n",
    "                    continue\n",
    "                if (current_state.state[rhs_idx] and current_state.state[rhs_idx][-1] > last_disk) or \\\n",
    "                   (not current_state.state[rhs_idx]):\n",
    "                    new_state = current_state.copy()\n",
    "                    new_state.state[rhs_idx].append(new_state.state[tower_idx].pop())\n",
    "                    if new_state.hashable_repr() not in state_number:\n",
    "                        state_number[new_state.hashable_repr()] = first_free_number[0]\n",
    "                        first_free_number[0] += 1    \n",
    "                        build_graph(new_state, first_free_number, n_disk, n_tower, state_number, graph)\n",
    "                    \n",
    "                    v = state_number[current_state.hashable_repr()]\n",
    "                    u = state_number[new_state.hashable_repr()]\n",
    "                    graph[v].append(u)\n",
    "                        \n",
    "                    \n",
    "        "
   ]
  },
  {
   "cell_type": "code",
   "execution_count": 173,
   "metadata": {},
   "outputs": [],
   "source": [
    "def build_tree_of_states(n_disk, n_tower):\n",
    "    init_state = state(n_disk, n_tower)\n",
    "    init_state.state[0] = list((np.arange(n_disk) + 1)[::-1])\n",
    "    state_number = dict()\n",
    "    graph = [[] for _ in range(2 ** (2 * n_disk) - 1)]    \n",
    "    state_number[init_state.hashable_repr()] = 0\n",
    "    \n",
    "    result = build_graph(init_state, [1], n_disk, n_tower, state_number, graph)\n",
    "    mapping_from_state_to_number = state_number\n",
    "    \n",
    "    return graph, mapping_from_state_to_number"
   ]
  },
  {
   "cell_type": "markdown",
   "metadata": {},
   "source": [
    "Намалюйте дерево пошуку, де вузли - це всі стани, яких можна досягти з початкового стану, а ребра представляють дозволені переходи (переміщення) між ними."
   ]
  },
  {
   "cell_type": "markdown",
   "metadata": {},
   "source": [
    "Стоит заметить, что граф полученный таким способом деревом не является так как он содержит цикла. Но поиски в глубину и ширину помогут нам получить деревья обхода этого графа."
   ]
  },
  {
   "cell_type": "markdown",
   "metadata": {},
   "source": [
    "Получим граф состояние игры"
   ]
  },
  {
   "cell_type": "code",
   "execution_count": 174,
   "metadata": {},
   "outputs": [],
   "source": [
    "n_disk, n_tower = 3, 3\n",
    "states_graph, mapping_from_state_to_number = build_tree_of_states(n_disk, n_tower)"
   ]
  },
  {
   "cell_type": "code",
   "execution_count": 175,
   "metadata": {},
   "outputs": [],
   "source": [
    "def adj_list_to_adj_matrix(adj_list, n_vertex):\n",
    "    adj_matrix = np.zeros((n_vertex, n_vertex))\n",
    "    for i in range(len(adj_list)):\n",
    "        if adj_list[i]:\n",
    "            for j in range(len(adj_list[i])):\n",
    "                adj_matrix[i][adj_list[i][j]] = 1\n",
    "    \n",
    "    return adj_matrix"
   ]
  },
  {
   "cell_type": "code",
   "execution_count": 176,
   "metadata": {},
   "outputs": [],
   "source": [
    "n_vertex = len(mapping_from_state_to_number.keys())\n",
    "adj = adj_list_to_adj_matrix(states_graph, n_vertex)"
   ]
  },
  {
   "cell_type": "code",
   "execution_count": 177,
   "metadata": {},
   "outputs": [],
   "source": [
    "init_state = state.init_state(n_disk, n_tower)\n",
    "final_state = state.final_state(n_disk, n_tower)\n",
    "init_state_number = mapping_from_state_to_number[init_state.hashable_repr()]\n",
    "final_state_number = mapping_from_state_to_number[final_state.hashable_repr()]"
   ]
  },
  {
   "cell_type": "code",
   "execution_count": 190,
   "metadata": {},
   "outputs": [],
   "source": [
    "num_to_label = lambda x: 'S' if x == init_state_number else 'F' if x == final_state_number else x"
   ]
  },
  {
   "cell_type": "code",
   "execution_count": 191,
   "metadata": {},
   "outputs": [],
   "source": [
    "labels = {e:num_to_label(e) for e in range(n_vertex)}"
   ]
  },
  {
   "cell_type": "code",
   "execution_count": 196,
   "metadata": {},
   "outputs": [],
   "source": [
    "num_to_color = lambda x: 'red' if x == init_state_number else 'black' if x == final_state_number else 'white'"
   ]
  },
  {
   "cell_type": "code",
   "execution_count": 197,
   "metadata": {},
   "outputs": [],
   "source": [
    "color_map = [num_to_color(e) for e in range(n_vertex)]"
   ]
  },
  {
   "cell_type": "code",
   "execution_count": 198,
   "metadata": {},
   "outputs": [],
   "source": [
    "def show_graph_with_labels(adjacency_matrix, mylabels, color_map):\n",
    "    rows, cols = np.where(adjacency_matrix == 1)\n",
    "    edges = zip(rows.tolist(), cols.tolist())\n",
    "    gr = nx.Graph()\n",
    "    all_rows = range(0, adjacency_matrix.shape[0])\n",
    "    for n in all_rows:\n",
    "        gr.add_node(n)\n",
    "    gr.add_edges_from(edges)\n",
    "    nx.draw(gr, node_size=200, labels=mylabels, with_labels=True, node_color=color_map)\n",
    "    plt.show()\n"
   ]
  },
  {
   "cell_type": "code",
   "execution_count": 202,
   "metadata": {
    "scrolled": false
   },
   "outputs": [
    {
     "data": {
      "image/png": "[encoded data removed]",
      "text/plain": [
       "<Figure size 432x288 with 1 Axes>"
      ]
     },
     "metadata": {},
     "output_type": "display_data"
    }
   ],
   "source": [
    "show_graph_with_labels(adj, labels, color_map)"
   ]
  },
  {
   "cell_type": "markdown",
   "metadata": {},
   "source": [
    "Выше мы построили граф нашей игры, где вершины являются неким состояние игры, и между вершина есть ребро, есть из одного состояния можно перейти в другие."
   ]
  },
  {
   "cell_type": "markdown",
   "metadata": {},
   "source": [
    "Из изображения графа можно заметить, что кратчайшее расстояние между начальной и финальной верший равно 7. Что на самом деле соответствует действительности, так как известно что минимальное количесвто ходов ровно $2^{n} - 1$, где $n$ - количество дисков."
   ]
  },
  {
   "cell_type": "markdown",
   "metadata": {},
   "source": [
    "S - начальная вершина, черная вершина - конечная, остальные вершины промежуточным состояние игры, ниже приведем отображения из номера в состояние."
   ]
  },
  {
   "cell_type": "code",
   "execution_count": 208,
   "metadata": {},
   "outputs": [
    {
     "name": "stdout",
     "output_type": "stream",
     "text": [
      "number: 0 state = ((3, 2, 1), (), ())\n",
      "number: 1 state = ((3, 2), (1,), ())\n",
      "number: 2 state = ((3,), (1,), (2,))\n",
      "number: 3 state = ((3, 1), (), (2,))\n",
      "number: 4 state = ((3,), (), (2, 1))\n",
      "number: 5 state = ((), (3,), (2, 1))\n",
      "number: 6 state = ((1,), (3,), (2,))\n",
      "number: 7 state = ((), (3, 1), (2,))\n",
      "number: 8 state = ((2,), (3, 1), ())\n",
      "number: 9 state = ((2, 1), (3,), ())\n",
      "number: 10 state = ((2,), (3,), (1,))\n",
      "number: 11 state = ((), (3, 2), (1,))\n",
      "number: 12 state = ((1,), (3, 2), ())\n",
      "number: 13 state = ((), (3, 2, 1), ())\n",
      "number: 14 state = ((2, 1), (), (3,))\n",
      "number: 15 state = ((2,), (1,), (3,))\n",
      "number: 16 state = ((), (1,), (3, 2))\n",
      "number: 17 state = ((1,), (), (3, 2))\n",
      "number: 18 state = ((), (), (3, 2, 1))\n",
      "number: 19 state = ((1,), (2,), (3,))\n",
      "number: 20 state = ((), (2, 1), (3,))\n",
      "number: 21 state = ((), (2,), (3, 1))\n",
      "number: 22 state = ((2,), (), (3, 1))\n",
      "number: 23 state = ((3,), (2, 1), ())\n",
      "number: 24 state = ((3, 1), (2,), ())\n",
      "number: 25 state = ((3,), (2,), (1,))\n",
      "number: 26 state = ((3, 2), (), (1,))\n"
     ]
    }
   ],
   "source": [
    "for state, number in mapping_from_state_to_number.items():\n",
    "    print('number: %d state = %s' % (number, state.__repr__()))"
   ]
  },
  {
   "cell_type": "markdown",
   "metadata": {},
   "source": [
    "Так же приведем пример расшифровки состояние"
   ]
  },
  {
   "cell_type": "markdown",
   "metadata": {},
   "source": [
    "((1,), (), (3, 2)) соответствует следующему состоянию игры: на 1-ом шесте лежит самый маленький диск, 2-й шест является пустым, на 3-ем шесте лежат самый больший диск и следующий за ним по размеру.\n"
   ]
  },
  {
   "cell_type": "markdown",
   "metadata": {},
   "source": [
    "Теперь когда мы построили граф игры и научились расшифровывать его, напишем BFS и DFS для манипуляций с ним."
   ]
  },
  {
   "cell_type": "code",
   "execution_count": 222,
   "metadata": {},
   "outputs": [],
   "source": [
    "def dfs(v, curr_dist, adj_list, used, count_step, final_state_number, dist):\n",
    "    count_step[0] += 1\n",
    "    if v == final_state_number:\n",
    "        count_step[1] = count_step[0] \n",
    "    used[v] = True\n",
    "    dist[v] = curr_dist\n",
    "    for to in adj_list[v]:\n",
    "        if not used[to]:\n",
    "            dfs(to, curr_dist + 1, adj_list, used, count_step, final_state_number, dist)"
   ]
  },
  {
   "cell_type": "code",
   "execution_count": 292,
   "metadata": {},
   "outputs": [],
   "source": [
    "def dfs_proccess(adj_list, n_vertex, init_state_number, final_state_number):\n",
    "    source_vertex = 0\n",
    "    dist = [0] * n_vertex\n",
    "    used = [False] * n_vertex\n",
    "    count_step = [0, 0]\n",
    "    dfs(source_vertex, 0, adj_list, used, count_step, final_state_number, dist)\n",
    "    \n",
    "    return dist[final_state_number], count_step[1]"
   ]
  },
  {
   "cell_type": "markdown",
   "metadata": {},
   "source": [
    "Запустим DFS, и посмотрим какова длина пути из начальной вершины в финальную, и так же увидим сколько вершины мы успели посетить в дереве обхода до этого момента."
   ]
  },
  {
   "cell_type": "code",
   "execution_count": 293,
   "metadata": {},
   "outputs": [],
   "source": [
    "distance_dfs, count_step_dfs = dfs_proccess(states_graph, n_vertex, init_state_number, final_state_number)"
   ]
  },
  {
   "cell_type": "markdown",
   "metadata": {},
   "source": [
    "Теперь напишем функции для BFS"
   ]
  },
  {
   "cell_type": "code",
   "execution_count": 294,
   "metadata": {},
   "outputs": [],
   "source": [
    "def bfs(init_state_number, adj_list, final_state_number, dist):\n",
    "    n_vertex = len(dist)\n",
    "    queue = [init_state_number]\n",
    "    used = [False] * n_vertex\n",
    "    \n",
    "    dist[init_state_number] = 0\n",
    "    used[init_state_number] = True\n",
    "    \n",
    "    current_count_step = 0\n",
    "    count_step_when_find_final = None\n",
    "    \n",
    "    while queue:\n",
    "        current_v = queue.pop(0)\n",
    "        current_count_step += 1\n",
    "        for to in adj_list[current_v]:\n",
    "            if not used[to]:\n",
    "                if to == final_state_number:\n",
    "                    count_step_when_find_final = current_count_step\n",
    "                dist[to] = dist[current_v] + 1\n",
    "                used[to] = True\n",
    "                queue.append(to)\n",
    "    \n",
    "    return dist[final_state_number], count_step_when_find_final"
   ]
  },
  {
   "cell_type": "code",
   "execution_count": 295,
   "metadata": {},
   "outputs": [],
   "source": [
    "def bfs_proccess(adj_list, n_vertex, init_state_number, final_state_number):\n",
    "    source_vertex = 0\n",
    "    dist = [0] * n_vertex\n",
    "    \n",
    "    return bfs(source_vertex, adj_list, final_state_number, dist)"
   ]
  },
  {
   "cell_type": "markdown",
   "metadata": {},
   "source": [
    "Запустим BFS, и посмотрим какова длина пути из начальной вершины в финальную, и так же увидим сколько вершины мы успели посетить в дереве обхода до этого момента."
   ]
  },
  {
   "cell_type": "code",
   "execution_count": 296,
   "metadata": {
    "scrolled": true
   },
   "outputs": [],
   "source": [
    "distance_bfs, count_step_bfs = bfs_proccess(states_graph, n_vertex, init_state_number, final_state_number)"
   ]
  },
  {
   "cell_type": "markdown",
   "metadata": {},
   "source": [
    "Теперь когда мы собрали информации с помощью DFS и BFS мы вправе ответить на следующие вопросы:"
   ]
  },
  {
   "cell_type": "markdown",
   "metadata": {},
   "source": [
    "а) яка довжина шляху, який знаходить кожен алгоритм"
   ]
  },
  {
   "cell_type": "markdown",
   "metadata": {},
   "source": [
    "Посмотрим какой путь нашел DFS и BFS"
   ]
  },
  {
   "cell_type": "code",
   "execution_count": 297,
   "metadata": {},
   "outputs": [
    {
     "name": "stdout",
     "output_type": "stream",
     "text": [
      "DFS path lenght =  14\n",
      "BFS path lenght =  7\n"
     ]
    }
   ],
   "source": [
    "print('DFS path lenght = ', distance_dfs)\n",
    "print('BFS path lenght = ', distance_bfs)"
   ]
  },
  {
   "cell_type": "markdown",
   "metadata": {},
   "source": [
    "Теперь дадим обоснование этим результатам. BFS обладает свойством обнаружение крайтчайших путей в 0-1 графах, или другим словами BFS позволяет найти кратчайший путь по количесту ребер (что нам как раз и подходит). И то что BFS нашел длину пути равную 7, мы вправе считать настоящей длиной кратчайшего пути от начального к финального состоянию. Так же стоить заметить, что длина кратчайнего пути равна $2^n - 1$, где n - это количество дисков, и в нашем случае это равно 2^3 - 1 = 7, что и подтверждает частный случай корректности BFS."
   ]
  },
  {
   "cell_type": "markdown",
   "metadata": {},
   "source": [
    "DFS не обладает свойство поиска кратчайшего пути по количество ребер, и длина пути в целом зависит от порядка выбора следующей вершине в дереве обхода."
   ]
  },
  {
   "cell_type": "markdown",
   "metadata": {},
   "source": [
    "б) яка кількість станів, відвіданих під час пошуку. \n"
   ]
  },
  {
   "cell_type": "markdown",
   "metadata": {},
   "source": [
    "Ответ на этот вопрос зависит от понимаю его трактовки. Во время DFS и BFS мы обходим всю компоненту связнности, то есть посещаем все вершины."
   ]
  },
  {
   "cell_type": "markdown",
   "metadata": {},
   "source": [
    "Если вопрос состоит в том, сколько вершин мы успели обойти до того момента как попали в финальную вершину, то ответ на него можно получить только эмпирическим путем."
   ]
  },
  {
   "cell_type": "code",
   "execution_count": 298,
   "metadata": {},
   "outputs": [
    {
     "name": "stdout",
     "output_type": "stream",
     "text": [
      "visit vertex DFS =  19\n",
      "visit vertex BFS =  18\n"
     ]
    }
   ],
   "source": [
    "print('visit vertex DFS = ', count_step_dfs)\n",
    "print('visit vertex BFS = ', count_step_bfs)"
   ]
  },
  {
   "cell_type": "markdown",
   "metadata": {},
   "source": [
    "Как видим, перед тем как попасть в финальную вершину мы обошли примерно одинаковое количество вершин каждым из алгоритмов."
   ]
  },
  {
   "cell_type": "markdown",
   "metadata": {},
   "source": [
    "Чи залежить результат від порядку, в якому сусіди кожного вузла додаються до списку?"
   ]
  },
  {
   "cell_type": "markdown",
   "metadata": {},
   "source": [
    "Результат длины пути алгоритма BFS не зависит, так как он всегда находит настоящий кратчайший путь по количеству ребер. Результат в DFS зависит, так как важно в каком направлении мы пойдем в дереве обхода."
   ]
  },
  {
   "cell_type": "markdown",
   "metadata": {},
   "source": [
    "Количество пройденных вершин, перед тем как мы попали в финальную зависит от способа обхода соседей, как в DFS, так и в DFS."
   ]
  },
  {
   "cell_type": "markdown",
   "metadata": {},
   "source": [
    "Как пример, рассмотрим граф-солнышко."
   ]
  },
  {
   "cell_type": "code",
   "execution_count": 309,
   "metadata": {},
   "outputs": [],
   "source": [
    "n_vertex_sun = 6\n",
    "adj_matrix_sun = np.zeros((n_vertex_sun, n_vertex_sun))\n",
    "for i in range(n_vertex_sun - 1):\n",
    "    adj_matrix_sun[i + 1][0] = 1\n",
    "    adj_matrix_sun[0][i + 1] = 1"
   ]
  },
  {
   "cell_type": "code",
   "execution_count": 310,
   "metadata": {},
   "outputs": [],
   "source": [
    "labels = {e:e + 1 for e in np.arange(n_vertex_sun)}\n",
    "color_map = ['red'] * n_vertex_sun"
   ]
  },
  {
   "cell_type": "code",
   "execution_count": 311,
   "metadata": {},
   "outputs": [
    {
     "data": {
      "image/png": "[encoded data removed]",
      "text/plain": [
       "<Figure size 432x288 with 1 Axes>"
      ]
     },
     "metadata": {},
     "output_type": "display_data"
    }
   ],
   "source": [
    "show_graph_with_labels(adj_matrix_sun, labels, color_map)"
   ]
  },
  {
   "cell_type": "markdown",
   "metadata": {},
   "source": [
    "Пускай мы имеем такой граф как на русинке выше, и перед нами стоит задача добрать из вершины номер 1 к вершине номер 5. "
   ]
  },
  {
   "cell_type": "markdown",
   "metadata": {},
   "source": [
    "Сначала рассмотрим алгоритм DFS. Пускай мы сейчас находимся в вершине 1, и теперь от порядка выбора соседей будет зависить, сколько вершин мы посетим в дереве обхода прежде, чем попадем в вершину 5."
   ]
  },
  {
   "cell_type": "markdown",
   "metadata": {},
   "source": [
    "Аналогичная сутиация обстоит с BFS, важно то в каком порядке мы будем добавлять вершины в очередь."
   ]
  }
 ],
 "metadata": {
  "kernelspec": {
   "display_name": "Python 3",
   "language": "python",
   "name": "python3"
  },
  "language_info": {
   "codemirror_mode": {
    "name": "ipython",
    "version": 3
   },
   "file_extension": ".py",
   "mimetype": "text/x-python",
   "name": "python",
   "nbconvert_exporter": "python",
   "pygments_lexer": "ipython3",
   "version": "3.6.9"
  }
 },
 "nbformat": 4,
 "nbformat_minor": 2
}
